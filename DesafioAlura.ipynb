{
  "nbformat": 4,
  "nbformat_minor": 0,
  "metadata": {
    "colab": {
      "provenance": [],
      "toc_visible": true,
      "mount_file_id": "18QwdBF4gBkkE7vY0D-Gifp-hg3UE7cOe",
      "authorship_tag": "ABX9TyNZuU5DcNPH7nR4KyKePz2J",
      "include_colab_link": true
    },
    "kernelspec": {
      "name": "python3",
      "display_name": "Python 3"
    },
    "language_info": {
      "name": "python"
    }
  },
  "cells": [
    {
      "cell_type": "markdown",
      "metadata": {
        "id": "view-in-github",
        "colab_type": "text"
      },
      "source": [
        "<a href=\"https://colab.research.google.com/github/claudio-cornelio/Alura_Gemini/blob/main/DesafioAlura.ipynb\" target=\"_parent\"><img src=\"https://colab.research.google.com/assets/colab-badge.svg\" alt=\"Open In Colab\"/></a>"
      ]
    },
    {
      "cell_type": "markdown",
      "source": [
        "# Projeto Alura + Gemini"
      ],
      "metadata": {
        "id": "jb_tjJnqjmrs"
      }
    },
    {
      "cell_type": "code",
      "execution_count": 1,
      "metadata": {
        "id": "oKGdT9RBVxKx"
      },
      "outputs": [],
      "source": [
        "# Instalar o Google AI\n",
        "!pip install -q -U google-generativeai"
      ]
    },
    {
      "cell_type": "code",
      "source": [
        "# Importar bibliotecas\n",
        "import pathlib\n",
        "import textwrap\n",
        "\n",
        "import google.generativeai as genai\n",
        "\n",
        "from google.colab import userdata\n",
        "\n",
        "import textwrap\n",
        "from IPython.display import display, Markdown\n",
        "\n",
        "from ipywidgets import FileUpload\n",
        "from IPython.display import display\n",
        "\n",
        "def to_markdown(text):\n",
        "  text = text.replace('•', '  *')\n",
        "  return Markdown(textwrap.indent(text, '> ', predicate=lambda _: True))"
      ],
      "metadata": {
        "id": "Z6txOAdVjsgg"
      },
      "execution_count": 2,
      "outputs": []
    },
    {
      "cell_type": "code",
      "source": [
        "# Definir Chave de API\n",
        "GOOGLE_API_KEY=userdata.get('GOOGLE_API_KEY')\n",
        "\n",
        "genai.configure(api_key=GOOGLE_API_KEY)"
      ],
      "metadata": {
        "id": "IOAIlmwNoQ5r"
      },
      "execution_count": 3,
      "outputs": []
    },
    {
      "cell_type": "code",
      "source": [
        "generation_config = {\n",
        "    \"candidate_count\": 1,\n",
        "    \"temperature\": 0.5\n",
        "}\n",
        "\n",
        "safety_settings = {\n",
        "    \"HARASSMENT\": \"BLOCK_NONE\",\n",
        "    \"HATE\": \"BLOCK_NONE\",\n",
        "    \"SEXUAL\": \"BLOCK_NONE\",\n",
        "    \"DANGEROUS\": \"BLOCK_NONE\"\n",
        "}"
      ],
      "metadata": {
        "id": "mB0M9jRFpWiX"
      },
      "execution_count": 4,
      "outputs": []
    },
    {
      "cell_type": "code",
      "source": [
        "model = genai.GenerativeModel(model_name=\"gemini-1.0-pro\",\n",
        "                              generation_config=generation_config,\n",
        "                              safety_settings=safety_settings)\n",
        "\n",
        "chat = model.start_chat(history=[])"
      ],
      "metadata": {
        "id": "IM4sGjXrp_jO"
      },
      "execution_count": 5,
      "outputs": []
    },
    {
      "cell_type": "code",
      "source": [
        "def on_upload_change(change):\n",
        "    if upload.value:\n",
        "        uploaded_image = next(iter(upload.value.values()))['content']\n",
        "        with open('input.png', 'wb') as f:\n",
        "            f.write(uploaded_image)\n",
        "        print(\"Arquivo carregado e salvo como 'input.png'.\")"
      ],
      "metadata": {
        "id": "1u90kz3SIrLk"
      },
      "execution_count": 6,
      "outputs": []
    },
    {
      "cell_type": "code",
      "source": [
        "while True:\n",
        "    user_input = input(\"Por favor, descreva o erro ou a configuração que você precisa de ajuda: \")\n",
        "    if user_input:  # Se o usuário digitar algo, o loop será encerrado\n",
        "        break\n",
        "    else:  # Se não digitar nada, exibe a mensagem e o prompt aparece novamente.\n",
        "        print(\"Precisamos de uma descrição para podermos te ajudar.\")"
      ],
      "metadata": {
        "colab": {
          "base_uri": "https://localhost:8080/"
        },
        "id": "Az8kgoS1EESJ",
        "outputId": "71e96125-d01d-4169-e4ab-7cd2aa40fa8c"
      },
      "execution_count": 7,
      "outputs": [
        {
          "name": "stdout",
          "output_type": "stream",
          "text": [
            "Por favor, descreva o erro ou a configuração que você precisa de ajuda: Meu office está apresentando uma mensagem de erro\n"
          ]
        }
      ]
    },
    {
      "cell_type": "code",
      "source": [
        "response = chat.send_message(f\"Essa é uma mensagem de um usuário: \\\"{user_input}\\\". É um erro, uma configuração ou outro tipo de problema?\")"
      ],
      "metadata": {
        "id": "gHeEVNrmEEKl"
      },
      "execution_count": 8,
      "outputs": []
    },
    {
      "cell_type": "code",
      "source": [
        "if response.text == \"Erro\":\n",
        "  # Solicitar informações adicionais\n",
        "  while True:\n",
        "    last_action = input(\"Você pode nos fornecer mais informações sobre a última ação que você realizou antes do erro? \")\n",
        "    if last_action:  # Se o usuário digitar algo, o loop será encerrado\n",
        "        break\n",
        "    else:  # Se não digitar nada, exibe a mensagem e o prompt aparece novamente.\n",
        "        print(\"Precisamos de uma descrição para podermos te ajudar.\")\n",
        "  upload_image = input(\"Você deseja fazer o upload de imagens do erro? (s/n): \").lower()\n",
        "  image_data = []\n",
        "  if upload_image == \"s\":\n",
        "      # Criar e exibir o widget de upload\n",
        "      upload = FileUpload(accept='image/*', multiple=False)\n",
        "      display(upload)\n",
        "\n",
        "      # Adicionar o callback ao evento de 'value' do upload mudando\n",
        "      upload.observe(on_upload_change, names='value')"
      ],
      "metadata": {
        "colab": {
          "base_uri": "https://localhost:8080/"
        },
        "id": "WavwVqITED-p",
        "outputId": "776cf01d-0a0d-4354-b4ea-39061de27e1f"
      },
      "execution_count": 9,
      "outputs": [
        {
          "name": "stdout",
          "output_type": "stream",
          "text": [
            "Você pode nos fornecer mais informações sobre a última ação que você realizou antes do erro? Simplesmente abri um arquivo do Power Point\n",
            "Você deseja fazer o upload de imagens do erro? (s/n): n\n"
          ]
        }
      ]
    },
    {
      "cell_type": "markdown",
      "source": [
        "Atualmente, a API do Google Gemini não oferece um método específico para enviar imagens diretamente como você faria com texto usando chat.send_message(). A forma de integrar a análise de imagens ao Gemini ainda está em desenvolvimento e, por enquanto, a codificação em Base64 e inclusão na mensagem textual é a forma mais recomendada."
      ],
      "metadata": {
        "id": "MoOzalRJPN2X"
      }
    },
    {
      "cell_type": "code",
      "source": [
        "response2 = chat.send_message(f\"\"\"Adicionalmente, o usuário indica que a última ação realizada antes do erro foi: \\\"{last_action}\\\". Preciso que retorne uma mensagem com o passo a passo para resolver o erro no seguinte padrão:\n",
        "Descrição do problema: \"de acordo com o relatado pelo usuário\"\n",
        "Dificuldade: \"Uma classificação de dificuldade para um usuário realizar essa atividade\"\n",
        "Passo a Passo: \"Descrição passo a passo de como ele pode resolver o problema.\"\n",
        "Se o problema não puder ser resolvido pelo usuário, instrua-o a entrar em contato com a central de atendimento pelo número 0800 000 0000 ou pelo email atendimento@atendimento.com.\n",
        "Considere as imagens fornecidas, se houver.\n",
        "\"\"\")\n",
        "\n",
        "print(\"Resposta: \", response2.text, \"\\n\")"
      ],
      "metadata": {
        "colab": {
          "base_uri": "https://localhost:8080/",
          "height": 315
        },
        "id": "Nvn8giAQGUrs",
        "outputId": "095fff33-4fa0-42db-a97d-cee367950ebc"
      },
      "execution_count": 10,
      "outputs": [
        {
          "output_type": "stream",
          "name": "stdout",
          "text": [
            "Resposta:  **Descrição do problema:** De acordo com o relatado pelo usuário, após abrir um arquivo do PowerPoint, ele está recebendo uma mensagem de erro.\n",
            "\n",
            "**Dificuldade:** Fácil\n",
            "\n",
            "**Passo a Passo:**\n",
            "\n",
            "1. **Feche e reabra o PowerPoint:** Feche completamente o aplicativo PowerPoint e abra-o novamente.\n",
            "2. **Reparar o Office:** Abra o Painel de Controle > Programas e Recursos > Microsoft Office > Alterar > Reparo Online.\n",
            "3. **Redefinir as configurações do PowerPoint:** Feche o PowerPoint e renomeie o arquivo \"PowerPoint Normal.potx\" para \"PowerPoint Normal.old.potx\". Ele está localizado em: C:\\Usuários\\%username%\\AppData\\Roaming\\Microsoft\\Templates.\n",
            "4. **Atualizar drivers de vídeo:** Verifique se os drivers da placa de vídeo estão atualizados.\n",
            "5. **Executar o Office em modo de segurança:** Pressione a tecla Windows + R e digite \"powerpnt /safe\". Se o PowerPoint abrir sem erros no modo de segurança, desative os suplementos indo para Arquivo > Opções > Suplementos.\n",
            "\n",
            "**Se o problema persistir:**\n",
            "\n",
            "Entre em contato com a central de atendimento pelo número 0800 000 0000 ou pelo email atendimento@atendimento.com. \n",
            "\n"
          ]
        }
      ]
    }
  ]
}